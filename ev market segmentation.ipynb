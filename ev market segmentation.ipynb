{
 "cells": [
  {
   "cell_type": "code",
   "execution_count": null,
   "id": "8a220f80-1613-42fd-bb2d-4b69a6161a3c",
   "metadata": {},
   "outputs": [],
   "source": [
    "import numpy as np\n",
    "import pandas as pd\n",
    "import matplotlib.pyplot as plt\n",
    "import seaborn as sns\n",
    "import missingno as msno\n",
    "import nltk\n",
    "from nltk.sentiment import SentimentIntensityAnalyzer\n",
    "from sklearn.preprocessing import StandardScaler\n",
    "from sklearn.decomposition import PCA\n",
    "from sklearn.cluster import KMeans\n",
    "import warnings"
   ]
  },
  {
   "cell_type": "code",
   "execution_count": null,
   "id": "29cf69ab-e8c5-46da-858c-2b736c80d5e1",
   "metadata": {},
   "outputs": [],
   "source": [
    "data_smev = pd.read_csv(\"r\\C:\\Users\\nikhi\\Desktop\\RAHUL\\Data Files used in Projects\\electricvehicle.csv\")"
   ]
  },
  {
   "cell_type": "code",
   "execution_count": null,
   "id": "987d1705-1c64-4d79-b06f-37e87fea8c8e",
   "metadata": {},
   "outputs": [],
   "source": [
    "data_smev.keys()"
   ]
  },
  {
   "cell_type": "code",
   "execution_count": null,
   "id": "6545a457-43e9-4c1b-8b97-ea11ae1409c0",
   "metadata": {},
   "outputs": [],
   "source": [
    "data_smev['EV Industries']"
   ]
  },
  {
   "cell_type": "code",
   "execution_count": null,
   "id": "60828513-0e19-40a7-9b67-749bbc65a4d1",
   "metadata": {},
   "outputs": [],
   "source": [
    "fig, ax = plt.subplots(figsize=(6, 4))\n",
    "ax = sns.lineplot(data=data_smev['EV Industries'], x='financial_year', y='num_vehicles', hue='category', marker='o', palette='tab10')\n",
    "plt.xlabel(\"Financial Year\")\n",
    "plt.ylabel(\"Vehicles\")\n",
    "plt.legend(title='Category')\n",
    "\n",
    "# Annotate the last data point\n",
    "for col in data_smev['EV Industries']['category'].unique():\n",
    "    last_point = data_smev['EV Industries'][data_smev['EV Industries']['category'] == col].iloc[-1]\n",
    "    plt.annotate(f\"{last_point['category']}\", \n",
    "                 (last_point['financial_year'], last_point['num_vehicles']),\n",
    "                 textcoords=\"offset points\",\n",
    "                 xytext=(10, -5), \n",
    "                 ha='left')\n",
    "ax.spines[['right', 'top']].set_visible(False)\n",
    "ax.get_legend().set_visible(False)\n",
    "plt.show()"
   ]
  },
  {
   "cell_type": "code",
   "execution_count": null,
   "id": "ddd0e6b9-fa24-48ef-9e35-0188f91d9840",
   "metadata": {},
   "outputs": [],
   "source": [
    "data_smev['EV Market'] = data_smev['EV Market'].sort_values('Amount INR Cr', ascending = False)"
   ]
  },
  {
   "cell_type": "code",
   "execution_count": null,
   "id": "cae4f9c8-cf3b-412a-9398-d0313fcfb218",
   "metadata": {},
   "outputs": [],
   "source": [
    "fig, ax = plt.subplots(figsize = (6, 3))\n",
    "ax = sns.barplot(data_smev['EV Market'], x = 'Category', y = 'Amount INR Cr')\n",
    "ax.bar_label(ax.containers[0])\n",
    "plt.yticks([])\n",
    "plt.ylabel(\"\")\n",
    "ax.spines[['right', 'top', 'left']].set_visible(False)\n",
    "plt.show()"
   ]
  },
  {
   "cell_type": "code",
   "execution_count": null,
   "id": "839f8cd4-3982-4d20-ad42-eede5f613719",
   "metadata": {},
   "outputs": [],
   "source": [
    "ev2w = list(data_smev.keys())[0:4]\n",
    "data_ev2w = pd.concat([data_smev[ev2w[0]], data_smev[ev2w[1]], data_smev[ev2w[2]], data_smev[ev2w[3]]])"
   ]
  },
  {
   "cell_type": "code",
   "execution_count": null,
   "id": "c07f4e49-c669-45b4-9668-c17f0a8ced72",
   "metadata": {},
   "outputs": [],
   "source": [
    "data_ev2w['maker'] = data_ev2w['maker'].str.upper()"
   ]
  },
  {
   "cell_type": "code",
   "execution_count": null,
   "id": "1830e843-bbfb-4bf7-9eac-47a907c60099",
   "metadata": {},
   "outputs": [],
   "source": [
    "np.sort(data_ev2w['maker'].unique())"
   ]
  },
  {
   "cell_type": "code",
   "execution_count": null,
   "id": "96bd7c0c-f44e-4b9b-b2f1-9a9a392fff14",
   "metadata": {},
   "outputs": [],
   "source": [
    "data_ev2w['maker'] = data_ev2w['maker'].replace('AMPERE VEHICLES', 'AMPERE').replace('ATHER ENERGY', 'ATHER').replace('BEING INDIA', 'BENLING').replace('JITENDRA NEW EV', 'JITENDRA').replace('OKINAWA AUTOTECH', 'OKINAWA')"
   ]
  },
  {
   "cell_type": "code",
   "execution_count": null,
   "id": "8daf50bb-53b4-49a4-b85c-4e99968889af",
   "metadata": {},
   "outputs": [],
   "source": [
    "np.sort(data_ev2w['maker'].unique())"
   ]
  },
  {
   "cell_type": "code",
   "execution_count": null,
   "id": "381a2e55-31d2-4010-9f03-46eb235335a7",
   "metadata": {},
   "outputs": [],
   "source": [
    "data_ev2w"
   ]
  },
  {
   "cell_type": "code",
   "execution_count": null,
   "id": "cc076643-486e-4057-95ac-1626fd22a01e",
   "metadata": {},
   "outputs": [],
   "source": [
    "data_ev2w_year = data_ev2w.groupby(['financial_year', 'maker']).agg({'num_vehicles':'sum'}).reset_index()"
   ]
  },
  {
   "cell_type": "code",
   "execution_count": null,
   "id": "3e5cf600-1302-4036-a624-906f5a8e9000",
   "metadata": {},
   "outputs": [],
   "source": [
    "fig, ax = plt.subplots(figsize=(6,8))\n",
    "ax = sns.lineplot(data=data_ev2w_year, x='financial_year', y='num_vehicles', hue='maker', marker='o', palette='tab10')\n",
    "plt.xlabel(\"Financial Year\", fontsize = 15)\n",
    "plt.ylabel(\"Vehicles\", fontsize = 15)\n",
    "plt.xticks(fontsize = 12)\n",
    "plt.yticks(fontsize = 12)\n",
    "plt.legend(title='Maker')\n",
    "\n",
    "# Annotate the last data point\n",
    "for col in data_ev2w_year['maker'].unique()[::1]:\n",
    "    last_point = data_ev2w_year[data_ev2w_year['maker'] == col].iloc[-1]\n",
    "    plt.annotate(f\"{last_point['maker']}\", \n",
    "                 (last_point['financial_year'], last_point['num_vehicles']),\n",
    "                 textcoords=\"offset points\",\n",
    "                 xytext=(10, -5), \n",
    "                 ha='left')\n",
    "ax.spines[['right', 'top']].set_visible(False)\n",
    "ax.get_legend().set_visible(False)\n",
    "plt.show()"
   ]
  },
  {
   "cell_type": "code",
   "execution_count": null,
   "id": "8dccd6fe-31ea-4bce-a810-b82f48fc3f00",
   "metadata": {},
   "outputs": [],
   "source": [
    "data_bw = pd.read_csv(\"/kaggle/input/electric-vehicle-2023/ev2_bikewale.csv\")\n",
    "data_model = pd.read_csv(\"/kaggle/input/electric-vehicle-2023/ev_model_spec.csv\")"
   ]
  },
  {
   "cell_type": "code",
   "execution_count": null,
   "id": "ef0fe7d1-8bed-4287-bec3-c2e84ec606ed",
   "metadata": {},
   "outputs": [],
   "source": [
    "data = data_bw.merge(data_model, how = 'left', on = 'Model Name')"
   ]
  },
  {
   "cell_type": "code",
   "execution_count": null,
   "id": "0eb13c3a-e1c1-4e89-941b-1696f69b32c3",
   "metadata": {},
   "outputs": [],
   "source": [
    "sentiments = SentimentIntensityAnalyzer()\n",
    "sentiments_list = []\n",
    "\n",
    "for review_text in data['review']:\n",
    "    if pd.isna(review_text):\n",
    "        sentiments_list.append('neutral')\n",
    "        continue\n",
    "    sentiment_scores = sentiments.polarity_scores(review_text)\n",
    "\n",
    "    positive_score = sentiment_scores['pos']\n",
    "    negative_score = sentiment_scores['neg']\n",
    "\n",
    "    if positive_score > negative_score:\n",
    "        sentiment_label = 'positive'\n",
    "    elif positive_score < negative_score:\n",
    "        sentiment_label = 'negative'\n",
    "    else:\n",
    "        sentiment_label = 'neutral'\n",
    "\n",
    "    sentiments_list.append(sentiment_label)\n",
    "    \n",
    "data['sentiment'] = sentiments_list"
   ]
  },
  {
   "cell_type": "code",
   "execution_count": null,
   "id": "6659dc5f-c76f-49ce-9266-a65d6d7ce2d9",
   "metadata": {},
   "outputs": [],
   "source": [
    "data['sentiment'].value_counts()\n"
   ]
  },
  {
   "cell_type": "code",
   "execution_count": null,
   "id": "56fd4e96-692d-4fec-abd6-e24fdbdbbd32",
   "metadata": {},
   "outputs": [],
   "source": [
    "data_segment = data[['Used it for', 'Owned for', 'Ridden for', 'rating',\n",
    "       'Visual Appeal', 'Reliability', 'Performance', 'Service Experience',\n",
    "       'Extra Features', 'Comfort', 'Maintenance cost', 'Value for Money',\n",
    "       'sentiment']].copy()"
   ]
  },
  {
   "cell_type": "code",
   "execution_count": null,
   "id": "3db21f38-7ef2-49e6-b402-d63630f9a7dd",
   "metadata": {},
   "outputs": [],
   "source": [
    "scaler = StandardScaler()\n",
    "data_scaled = scaler.fit_transform(data_segment)"
   ]
  },
  {
   "cell_type": "code",
   "execution_count": null,
   "id": "7c498c16-4675-4d0b-83ab-28e60afdb5bc",
   "metadata": {},
   "outputs": [],
   "source": [
    "pca = PCA(random_state = 42)\n",
    "pca.fit(data_scaled)"
   ]
  },
  {
   "cell_type": "code",
   "execution_count": null,
   "id": "2f981f21-5a51-4273-a951-343ebf40c6f8",
   "metadata": {},
   "outputs": [],
   "source": [
    "data_pca = pca.transform(data_scaled)"
   ]
  },
  {
   "cell_type": "code",
   "execution_count": null,
   "id": "1f84410a-fa20-45dd-88ae-eed326dd28d7",
   "metadata": {},
   "outputs": [],
   "source": [
    "df_pca = pd.DataFrame(data_pca, columns = [f'PC{x +1}' for x in range(len(data_segment.columns))])"
   ]
  },
  {
   "cell_type": "code",
   "execution_count": null,
   "id": "bce161a1-d7dc-41ba-be82-38ac390efe6d",
   "metadata": {},
   "outputs": [],
   "source": [
    "df_pca.head()"
   ]
  },
  {
   "cell_type": "code",
   "execution_count": null,
   "id": "58a55ef8-66f7-4c19-87a4-3cf1027f0313",
   "metadata": {},
   "outputs": [],
   "source": [
    "pca_summary = pd.DataFrame({'Standard Deviation':df_pca.std(),\n",
    "                           'Proportion of Variance': pca.explained_variance_ratio_,\n",
    "                           'Cumultive Proportion': pca.explained_variance_ratio_.cumsum()})"
   ]
  },
  {
   "cell_type": "code",
   "execution_count": null,
   "id": "69cfd12d-8099-426a-9704-2d8299b2b626",
   "metadata": {},
   "outputs": [],
   "source": [
    "pca_summary"
   ]
  },
  {
   "cell_type": "code",
   "execution_count": null,
   "id": "dd1ad674-793e-4fff-82ed-4ab9f879d360",
   "metadata": {},
   "outputs": [],
   "source": [
    "factor_loadings = pd.DataFrame(pca.components_, columns = data_segment.columns, index = df_pca.columns).T"
   ]
  },
  {
   "cell_type": "code",
   "execution_count": null,
   "id": "e7f2206c-95ed-488a-95f4-9381a43a3cfe",
   "metadata": {},
   "outputs": [],
   "source": [
    "factor_loadings.style.background_gradient(cmap = 'Blues')"
   ]
  },
  {
   "cell_type": "code",
   "execution_count": null,
   "id": "9749d12c-dcdb-4fd9-87c1-f6ffd06ea685",
   "metadata": {},
   "outputs": [],
   "source": [
    "index_names = factor_loadings.index\n",
    "\n",
    "# Plot data points\n",
    "sns.scatterplot(df_pca, x = 'PC1', y = 'PC2', color = 'grey')\n",
    "\n",
    "# Plot arrows from centroid to provided coordinates with index names\n",
    "for i in range(len(factor_loadings['PC1'])):\n",
    "    plt.arrow(0, 0, factor_loadings['PC1'][i] * 3.5, factor_loadings['PC2'][i] * 3.5, head_width=0.05, head_length=0.1, fc='red', ec='red')\n",
    "    plt.text((factor_loadings['PC1'][i] * 3.5), factor_loadings['PC2'][i]* 3.5, index_names[i], fontsize=12, ha='center', color = 'red', va = 'center_baseline')\n",
    "\n",
    "# Set labels and legend\n",
    "plt.xlabel('PC1')\n",
    "plt.ylabel('PC2')\n",
    "plt.title('A Principal components analysis of the EV 2-Wheeler data set')\n",
    "plt.grid(True)\n",
    "plt.show()"
   ]
  },
  {
   "cell_type": "code",
   "execution_count": null,
   "id": "8860fc37-767f-46fc-b364-2b5bfc2b2886",
   "metadata": {},
   "outputs": [],
   "source": [
    "data_km28 = [KMeans(n_clusters = k, random_state = 42).fit(data_scaled) for k in range(2, 9)]"
   ]
  },
  {
   "cell_type": "code",
   "execution_count": null,
   "id": "50636129-91ba-4883-b5d4-769a0ebf921b",
   "metadata": {},
   "outputs": [],
   "source": [
    "wcss = [model.inertia_ for model in data_km28]"
   ]
  },
  {
   "cell_type": "code",
   "execution_count": null,
   "id": "50169cc4-c17a-4e38-b63b-ed18d40735c4",
   "metadata": {},
   "outputs": [],
   "source": [
    "fig = plt.figure(figsize = (6,4))\n",
    "sns.barplot(x = list(range(2, 9)), y = wcss, color = 'grey')\n",
    "plt.xlabel(\"Segments\")\n",
    "plt.ylabel('Sum of Within Cluster Distances')\n",
    "plt.title(\"Scree plot for the EV 2-Wheeler data set\")\n",
    "plt.show()"
   ]
  },
  {
   "cell_type": "code",
   "execution_count": null,
   "id": "891f2368-07ca-4f36-8d29-5175ad1ac7c0",
   "metadata": {},
   "outputs": [],
   "source": [
    "wcss_diff = pd.DataFrame({'Segments':range(2,9),\n",
    "                          'WCSS Difference': pd.Series(wcss).diff()})\n",
    "wcss_diff['WCSS Difference'][0] = 0"
   ]
  },
  {
   "cell_type": "code",
   "execution_count": null,
   "id": "c52608e9-c4d0-4513-92bd-84af9e830021",
   "metadata": {},
   "outputs": [],
   "source": [
    "plt.figure(figsize = (7, 4))\n",
    "sns.barplot(wcss_diff, x = 'Segments', y = 'WCSS Difference')\n",
    "plt.show()"
   ]
  },
  {
   "cell_type": "code",
   "execution_count": null,
   "id": "f580c8e5-0932-47ac-b5c3-b3be5936939f",
   "metadata": {},
   "outputs": [],
   "source": [
    "kmeans = data_km28[2]"
   ]
  },
  {
   "cell_type": "code",
   "execution_count": null,
   "id": "bb5e4232-8ad7-41dd-94ea-d4e05687683a",
   "metadata": {},
   "outputs": [],
   "source": [
    "data_clust = pd.DataFrame(data_scaled, columns = data_segment.columns)\n",
    "data_clust['cluster'] = kmeans.labels_"
   ]
  },
  {
   "cell_type": "code",
   "execution_count": null,
   "id": "aaae43eb-135a-4af3-9369-ebd56c44573b",
   "metadata": {},
   "outputs": [],
   "source": [
    "data_pca = df_pca.copy()\n",
    "data_pca['cluster'] = kmeans.labels_"
   ]
  },
  {
   "cell_type": "code",
   "execution_count": null,
   "id": "e48ce81a-e43d-4ed6-949d-e12865957ad9",
   "metadata": {},
   "outputs": [],
   "source": [
    "data_profile = data_segment.copy()\n",
    "data_profile['cluster'] = kmeans.labels_"
   ]
  },
  {
   "cell_type": "code",
   "execution_count": null,
   "id": "c6172866-c816-400f-aa43-b201cb57192f",
   "metadata": {},
   "outputs": [],
   "source": [
    "columns_segment = data_clust.columns\n",
    "data_pivot = data_profile[columns_segment].groupby('cluster').mean().T"
   ]
  },
  {
   "cell_type": "code",
   "execution_count": null,
   "id": "d3f4faba-5f18-45f4-a4a7-ba6521e14230",
   "metadata": {},
   "outputs": [],
   "source": [
    "data_pivot_mean = data_pivot.mean(axis = 1).reset_index()\n",
    "data_pivot_mean.columns = ['Variable', 'Value']"
   ]
  },
  {
   "cell_type": "code",
   "execution_count": null,
   "id": "44890223-63d9-49de-9e04-0971f82e9d6d",
   "metadata": {},
   "outputs": [],
   "source": [
    "plt.figure(figsize = (12, 9))\n",
    "for i in range(4):\n",
    "    plt.subplot(2, 2, i+1)\n",
    "    sns.barplot(data_pivot, x = i, y = data_pivot.index)\n",
    "    sns.scatterplot(data_pivot_mean, x = 'Value', y = 'Variable', color = 'red')\n",
    "    for index, row in data_pivot_mean.iterrows():\n",
    "        plt.hlines(y=row['Variable'], xmin=0, xmax=row['Value'], colors='red', alpha = 0.2)\n",
    "    plt.ylabel(\"\")\n",
    "    plt.xlabel(\"\")\n",
    "    plt.title(f\"Cluster {i}: {data_profile['cluster'].value_counts()[i]} ({data_profile['cluster'].value_counts()[i]*100/len(data_profile):.0f}%)\")\n",
    "plt.suptitle(\"Segment profile plot for the four-segment solution for the EV 2-Wheeler data set\", fontsize = 15)\n",
    "plt.tight_layout()\n",
    "plt.show()"
   ]
  },
  {
   "cell_type": "code",
   "execution_count": null,
   "id": "d06bb947-1bb7-4d03-858b-91435d69a80b",
   "metadata": {},
   "outputs": [],
   "source": [
    "ndex_names = factor_loadings.index\n",
    "\n",
    "# Plot data points\n",
    "sns.scatterplot(data_pca, x = 'PC1', y = 'PC2', hue = 'cluster', palette = 'tab10')\n",
    "\n",
    "# Plot arrows from centroid to provided coordinates with index names\n",
    "for i in range(len(factor_loadings['PC1'])):\n",
    "    plt.arrow(0, 0, factor_loadings['PC1'][i] * 3.5, factor_loadings['PC2'][i] * 3.5, head_width=0.05, head_length=0.1, fc='red', ec='red')\n",
    "    plt.text(factor_loadings['PC1'][i] * 3.5, factor_loadings['PC2'][i]* 3.5, index_names[i], fontsize=12, ha='center', color = 'red', va = 'center_baseline')\n",
    "\n",
    "# Set labels and legend\n",
    "plt.xlabel('PC1')\n",
    "plt.ylabel('PC2')\n",
    "plt.title('Segment separation plot using principal components 1 and 2')\n",
    "plt.grid(True)\n",
    "plt.show()"
   ]
  },
  {
   "cell_type": "code",
   "execution_count": null,
   "id": "5cf70581-e714-4362-a712-15a3e1249e76",
   "metadata": {},
   "outputs": [],
   "source": [
    "data_desc = data.copy()\n",
    "data_desc['cluster'] = kmeans.labels_"
   ]
  },
  {
   "cell_type": "code",
   "execution_count": null,
   "id": "eec7f510-75c9-41d2-808f-a3f1763f3113",
   "metadata": {},
   "outputs": [],
   "source": [
    "data_desc.columns"
   ]
  },
  {
   "cell_type": "code",
   "execution_count": null,
   "id": "35caae19-8855-4bd5-b8d8-54fa6ee33384",
   "metadata": {},
   "outputs": [],
   "source": [
    "def mosaicplot(df, color_list, figsize=(5,5), barwidth = 1, title = \"Simple Mosaic Plot\", xlabel = 'cat'):\n",
    "    \n",
    "    fig, ax = plt.subplots(figsize =figsize)\n",
    "    \n",
    "    # Convert to ratio of each row sum and do a cumsum along row\n",
    "    p_cnt_ratio_df = df.div(df.sum(1), axis =0)\n",
    "    ratio_cum_df = p_cnt_ratio_df.cumsum(axis=1)\n",
    "    \n",
    "    # Get column order.\n",
    "    col_order = ratio_cum_df.columns.tolist()\n",
    "        \n",
    "    x = [str(n) for n in ratio_cum_df.index.tolist()]\n",
    "    \n",
    "    # Do the actual plots\n",
    "    for col, colour in zip(col_order[::-1], color_list):\n",
    "        plt.bar(x, ratio_cum_df[col], color=colour, edgecolor='white', width=barwidth, label=col)\n",
    "        \n",
    "    # Add in legend\n",
    "    plt.legend(loc='upper left', bbox_to_anchor=(1,1), ncol=1)\n",
    "    \n",
    "\n",
    "    # Configure title and axis\n",
    "    plt.title(title)\n",
    "    plt.xlabel(\"Segments\")\n",
    "    ax.spines[\"right\"].set_visible(False)\n",
    "    ax.spines[\"left\"].set_visible(False)\n",
    "    ax.spines[\"top\"].set_visible(False)\n",
    "    plt.yticks([])\n",
    "    plt.show()"
   ]
  },
  {
   "cell_type": "code",
   "execution_count": null,
   "id": "a848e2ea-7564-4627-980b-6a21708804eb",
   "metadata": {},
   "outputs": [],
   "source": [
    "color_list = ['#1F77B4', '#FF7F0E', '#2CA02C', '#D62728', '#9467BD', '#8C564B', '#E377C2', '#7F7F7F']"
   ]
  },
  {
   "cell_type": "code",
   "execution_count": null,
   "id": "9953ef16-833a-44c5-9f30-7ec58e7559c2",
   "metadata": {},
   "outputs": [],
   "source": [
    "sentiment_cluster = pd.crosstab(index = data_desc['cluster'], columns = data_desc['sentiment'])"
   ]
  },
  {
   "cell_type": "code",
   "execution_count": null,
   "id": "eb5810fb-63e0-4294-9c86-c215a38f0dc2",
   "metadata": {},
   "outputs": [],
   "source": [
    "sentiment_cluster"
   ]
  },
  {
   "cell_type": "code",
   "execution_count": null,
   "id": "69b79ad9-59cd-4b2e-a16c-b9f5e35a1bf0",
   "metadata": {},
   "outputs": [],
   "source": [
    "mosaicplot(sentiment_cluster, color_list[:3], figsize=(6,5), barwidth = 1)"
   ]
  },
  {
   "cell_type": "code",
   "execution_count": null,
   "id": "193e3109-a718-410b-a5dd-82d2c5d054ed",
   "metadata": {},
   "outputs": [],
   "source": [
    "used_cluster = pd.crosstab(index = data_desc['cluster'], columns = data_desc['Used it for'])"
   ]
  },
  {
   "cell_type": "code",
   "execution_count": null,
   "id": "b8a35f6c-f342-4546-8326-b4a676315fc7",
   "metadata": {},
   "outputs": [],
   "source": [
    "used_cluster"
   ]
  },
  {
   "cell_type": "code",
   "execution_count": null,
   "id": "1266c818-1b59-420c-adb2-bd0aa0ee1821",
   "metadata": {},
   "outputs": [],
   "source": [
    "mosaicplot(used_cluster, color_list[:5], figsize=(6,5), barwidth = 1, title = 'Mosaic plot for cross-tabulation of clusters and used it for for the EV 2-Wheelers data set' )"
   ]
  },
  {
   "cell_type": "code",
   "execution_count": null,
   "id": "1c2512bb-e23b-4dd5-862e-568f6dda11cd",
   "metadata": {},
   "outputs": [],
   "source": [
    "plt.figure(figsize = (5,4))\n",
    "sns.boxplot(data_desc, x= 'cluster', y = 'rating', palette = 'tab10', width = 0.7)\n",
    "plt.xlabel(\"Segments\")\n",
    "plt.ylabel(\"Rating\")\n",
    "plt.title(\"Parallel box and whisker plot of age by segment\")\n",
    "plt.savefig(\"rating.png\")\n",
    "plt.show()"
   ]
  },
  {
   "cell_type": "code",
   "execution_count": null,
   "id": "d060d56f-27b4-469f-b023-645a3aebc42d",
   "metadata": {},
   "outputs": [],
   "source": [
    "plt.figure(figsize = (10, 12))\n",
    "for i, col in enumerate(data_desc.columns[-8:-2]):\n",
    "    plt.subplot(3, 2, i+1)\n",
    "    sns.boxplot(data_desc, x = 'cluster', y =col)\n",
    "    plt.xlabel(\"Segments\", fontsize= 10)\n",
    "    plt.ylabel(col, fontsize = 10)\n",
    "    plt.xticks(fontsize = 8)\n",
    "    plt.yticks(fontsize = 8)\n",
    "plt.tight_layout()\n",
    "plt.show()"
   ]
  },
  {
   "cell_type": "code",
   "execution_count": null,
   "id": "522c5f9a-e6c1-482d-a118-e6de50c7388e",
   "metadata": {},
   "outputs": [],
   "source": []
  },
  {
   "cell_type": "code",
   "execution_count": null,
   "id": "35834826-15f6-4fed-bd10-79323b22e1c4",
   "metadata": {},
   "outputs": [],
   "source": []
  },
  {
   "cell_type": "code",
   "execution_count": null,
   "id": "20cde1dd-5a3d-4856-9973-978b82ade8c8",
   "metadata": {},
   "outputs": [],
   "source": []
  },
  {
   "cell_type": "code",
   "execution_count": null,
   "id": "a979686a-1e78-4b42-b4c3-3572367a9910",
   "metadata": {},
   "outputs": [],
   "source": []
  }
 ],
 "metadata": {
  "kernelspec": {
   "display_name": "Python 3 (ipykernel)",
   "language": "python",
   "name": "python3"
  },
  "language_info": {
   "codemirror_mode": {
    "name": "ipython",
    "version": 3
   },
   "file_extension": ".py",
   "mimetype": "text/x-python",
   "name": "python",
   "nbconvert_exporter": "python",
   "pygments_lexer": "ipython3",
   "version": "3.12.4"
  }
 },
 "nbformat": 4,
 "nbformat_minor": 5
}
